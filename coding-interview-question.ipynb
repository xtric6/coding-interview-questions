{
 "cells": [
  {
   "cell_type": "raw",
   "id": "5c4f1d9b",
   "metadata": {},
   "source": [
    "Customer comes to the store to buy some products. He can buy apples ($3), grapes ($5) and peaches ($7). There’re also 2 types of discounts: 1) If customer buys more than 1 apple, he gets a discount of 20% for all apples; 2) If customer buys one grapes he gets another one for free. Calculate the price of the basket, getting into account data comes into the following format (I do apologize for exact numbers, I reproduce them following the logic interviewer tried to explain to me, which kept in my memory): [[\"grapes\", 1],[\"apples\", 0],[\"peaches\", 1]] => 12 \n",
    "[[\"grapes\", 1],[\"apples\", 1],[\"peaches\", 1]] => 15 \n",
    "[[\"grapes\", 1],[\"apples\", 2],[\"peaches\", 1]] => 16.8 ... \n",
    "[[\"grapes\", 3],[\"apples\", 1],[\"peaches\", 1]] => 20"
   ]
  },
  {
   "cell_type": "code",
   "execution_count": 1,
   "id": "07d4dd70",
   "metadata": {},
   "outputs": [],
   "source": [
    "def Discount(basket):\n",
    "    basket_dict= dict(basket) #converted the list to a dictionary\n",
    "    if basket_dict['grapes'] > 1: \n",
    "        '''\n",
    "            accessing the values of grapes in the basket dict dictionary\n",
    "        e.g basket = [[\"grapes\", 3],[\"apples\", 1],[\"peaches\", 1]]\n",
    "            basket_dict= dict(basket)\n",
    "            print(basket_dict)\n",
    "            >> {'grapes': 3, 'apples': 1, 'peaches': 1}\n",
    "            basket_dict['grapes']\n",
    "            >> 3\n",
    "            basket_dict['peaches']\n",
    "            >> 1     \n",
    "        '''\n",
    "        grape_amount = (basket_dict['grapes'] - 1) * 5\n",
    "    elif basket_dict['grapes'] == 1 or basket_dict['grapes'] == 0:\n",
    "        grape_amount = (basket_dict['grapes']) * 5\n",
    "    if basket_dict['apples'] > 1:\n",
    "        apple_amount = (basket_dict['apples'] * 3) - (basket_dict['apples']*3 * (0.2))\n",
    "    elif basket_dict['apples'] == 0 or basket_dict['apples'] == 1:\n",
    "        apple_amount = (basket_dict['apples'] * 3)\n",
    "    if basket_dict['peaches']:\n",
    "        peaches_amount = basket_dict['peaches'] * 7\n",
    "    elif basket_dict['peaches'] == 0:\n",
    "        peaches_amount = basket_dict['peaches'] * 7\n",
    "    print(grape_amount + apple_amount + peaches_amount )"
   ]
  },
  {
   "cell_type": "code",
   "execution_count": 2,
   "id": "1d983f0a",
   "metadata": {},
   "outputs": [
    {
     "name": "stdout",
     "output_type": "stream",
     "text": [
      "12\n"
     ]
    }
   ],
   "source": [
    "Discount([[\"grapes\", 1],[\"apples\", 0],[\"peaches\", 1]])"
   ]
  },
  {
   "cell_type": "code",
   "execution_count": 3,
   "id": "7f1b1930",
   "metadata": {},
   "outputs": [
    {
     "name": "stdout",
     "output_type": "stream",
     "text": [
      "15\n"
     ]
    }
   ],
   "source": [
    "Discount([[\"grapes\", 1],[\"apples\", 1],[\"peaches\", 1]])"
   ]
  },
  {
   "cell_type": "code",
   "execution_count": 4,
   "id": "ba6733f6",
   "metadata": {},
   "outputs": [
    {
     "name": "stdout",
     "output_type": "stream",
     "text": [
      "16.8\n"
     ]
    }
   ],
   "source": [
    "Discount([[\"grapes\", 1],[\"apples\", 2],[\"peaches\", 1]])"
   ]
  },
  {
   "cell_type": "code",
   "execution_count": 5,
   "id": "2d30e30f",
   "metadata": {},
   "outputs": [
    {
     "name": "stdout",
     "output_type": "stream",
     "text": [
      "20\n"
     ]
    }
   ],
   "source": [
    "Discount([[\"grapes\", 3],[\"apples\", 1],[\"peaches\", 1]])"
   ]
  },
  {
   "cell_type": "code",
   "execution_count": null,
   "id": "d13cb69a",
   "metadata": {},
   "outputs": [],
   "source": []
  }
 ],
 "metadata": {
  "kernelspec": {
   "display_name": "Python 3 (ipykernel)",
   "language": "python",
   "name": "python3"
  },
  "language_info": {
   "codemirror_mode": {
    "name": "ipython",
    "version": 3
   },
   "file_extension": ".py",
   "mimetype": "text/x-python",
   "name": "python",
   "nbconvert_exporter": "python",
   "pygments_lexer": "ipython3",
   "version": "3.9.12"
  }
 },
 "nbformat": 4,
 "nbformat_minor": 5
}
